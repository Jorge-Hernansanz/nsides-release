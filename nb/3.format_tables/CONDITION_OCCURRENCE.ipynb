{
 "cells": [
  {
   "cell_type": "markdown",
   "metadata": {},
   "source": [
    "# `CONDITION_OCCURRENCE`\n",
    "\n",
    "\n",
    "`CONDITION_OCCURRENCE` is a table in the `effect_nsides` database that stores relationships between reports and their outcomes (\"condition occurrences\").\n",
    "The schema for this table is the following:\n",
    "\n",
    "```mysql\n",
    "CREATE TABLE CONDITION_OCCURRENCE (\n",
    "    report_id int\n",
    "    condition_concept_id int\n",
    ")\n",
    "```\n",
    "\n",
    "Fields:\n",
    "* `report_id` is the ID for each report, from the FDA itself. This is a foreign key for `REPORT.report_id`.\n",
    "* `condition_concept_id` is the OMOP CDM `concept_id` for each condition. This is a foreign key for `CONDITION_CONCEPT.concept_id`."
   ]
  },
  {
   "cell_type": "code",
   "execution_count": 1,
   "metadata": {},
   "outputs": [],
   "source": [
    "import pandas as pd"
   ]
  },
  {
   "cell_type": "markdown",
   "metadata": {},
   "source": [
    "## Load original file"
   ]
  },
  {
   "cell_type": "code",
   "execution_count": 2,
   "metadata": {},
   "outputs": [
    {
     "data": {
      "text/html": [
       "<div>\n",
       "<style scoped>\n",
       "    .dataframe tbody tr th:only-of-type {\n",
       "        vertical-align: middle;\n",
       "    }\n",
       "\n",
       "    .dataframe tbody tr th {\n",
       "        vertical-align: top;\n",
       "    }\n",
       "\n",
       "    .dataframe thead th {\n",
       "        text-align: right;\n",
       "    }\n",
       "</style>\n",
       "<table border=\"1\" class=\"dataframe\">\n",
       "  <thead>\n",
       "    <tr style=\"text-align: right;\">\n",
       "      <th></th>\n",
       "      <th>report_id</th>\n",
       "      <th>outcome_concept_id</th>\n",
       "      <th>snomed_outcome_concept_id</th>\n",
       "      <th>report_index</th>\n",
       "      <th>outcome_index</th>\n",
       "    </tr>\n",
       "  </thead>\n",
       "  <tbody>\n",
       "    <tr>\n",
       "      <td>0</td>\n",
       "      <td>100033001</td>\n",
       "      <td>36516812</td>\n",
       "      <td>77074.0</td>\n",
       "      <td>4394326</td>\n",
       "      <td>10544</td>\n",
       "    </tr>\n",
       "    <tr>\n",
       "      <td>1</td>\n",
       "      <td>100033001</td>\n",
       "      <td>35708093</td>\n",
       "      <td>196523.0</td>\n",
       "      <td>4394326</td>\n",
       "      <td>3612</td>\n",
       "    </tr>\n",
       "  </tbody>\n",
       "</table>\n",
       "</div>"
      ],
      "text/plain": [
       "   report_id  outcome_concept_id  snomed_outcome_concept_id  report_index  \\\n",
       "0  100033001            36516812                    77074.0       4394326   \n",
       "1  100033001            35708093                   196523.0       4394326   \n",
       "\n",
       "   outcome_index  \n",
       "0          10544  \n",
       "1           3612  "
      ]
     },
     "execution_count": 2,
     "metadata": {},
     "output_type": "execute_result"
    }
   ],
   "source": [
    "outcomes_df = pd.read_csv('../../data/meta_formatted/outcomes_table.csv.xz')\n",
    "\n",
    "outcomes_df.head(2)"
   ]
  },
  {
   "cell_type": "markdown",
   "metadata": {},
   "source": [
    "## Subset and save resulting table"
   ]
  },
  {
   "cell_type": "code",
   "execution_count": 3,
   "metadata": {},
   "outputs": [
    {
     "data": {
      "text/html": [
       "<div>\n",
       "<style scoped>\n",
       "    .dataframe tbody tr th:only-of-type {\n",
       "        vertical-align: middle;\n",
       "    }\n",
       "\n",
       "    .dataframe tbody tr th {\n",
       "        vertical-align: top;\n",
       "    }\n",
       "\n",
       "    .dataframe thead th {\n",
       "        text-align: right;\n",
       "    }\n",
       "</style>\n",
       "<table border=\"1\" class=\"dataframe\">\n",
       "  <thead>\n",
       "    <tr style=\"text-align: right;\">\n",
       "      <th></th>\n",
       "      <th>report_id</th>\n",
       "      <th>condition_concept_id</th>\n",
       "    </tr>\n",
       "  </thead>\n",
       "  <tbody>\n",
       "    <tr>\n",
       "      <td>0</td>\n",
       "      <td>100033001</td>\n",
       "      <td>36516812</td>\n",
       "    </tr>\n",
       "    <tr>\n",
       "      <td>1</td>\n",
       "      <td>100033001</td>\n",
       "      <td>35708093</td>\n",
       "    </tr>\n",
       "  </tbody>\n",
       "</table>\n",
       "</div>"
      ],
      "text/plain": [
       "   report_id  condition_concept_id\n",
       "0  100033001              36516812\n",
       "1  100033001              35708093"
      ]
     },
     "execution_count": 3,
     "metadata": {},
     "output_type": "execute_result"
    }
   ],
   "source": [
    "condition_occurrence = (\n",
    "    outcomes_df\n",
    "    .rename(columns={'outcome_concept_id': 'condition_concept_id'})\n",
    "    .filter(items=['report_id', 'condition_concept_id'])\n",
    ")\n",
    "\n",
    "condition_occurrence.to_csv('../../data/tables/condition_occurrence.csv.xz', index=False,\n",
    "                            compression='xz')\n",
    "\n",
    "condition_occurrence.head(2)"
   ]
  }
 ],
 "metadata": {
  "kernelspec": {
   "display_name": "Python [conda env:nsides] *",
   "language": "python",
   "name": "conda-env-nsides-py"
  },
  "language_info": {
   "codemirror_mode": {
    "name": "ipython",
    "version": 3
   },
   "file_extension": ".py",
   "mimetype": "text/x-python",
   "name": "python",
   "nbconvert_exporter": "python",
   "pygments_lexer": "ipython3",
   "version": "3.7.3"
  }
 },
 "nbformat": 4,
 "nbformat_minor": 2
}
