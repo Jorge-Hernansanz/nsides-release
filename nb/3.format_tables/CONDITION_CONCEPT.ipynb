{
 "cells": [
  {
   "cell_type": "markdown",
   "metadata": {},
   "source": [
    "# `CONDITION_CONCEPT`\n",
    "\n",
    "`CONDITION_CONCEPT` is a table in the `effect_nsides` database that stores conditions/outcomes.\n",
    "This table only stores those conditions/outcomes which appear in `CONDITION_OCCURRENCE`.\n",
    "The schema for this table is the following:\n",
    "\n",
    "```mysql\n",
    "CREATE TABLE CONDITION_CONCEPT (\n",
    "    concept_id int\n",
    "    concept_name varchar(255)\n",
    "    meddra_concept_id int\n",
    "    snomed_concept_id int\n",
    ")\n",
    "```\n",
    "\n",
    "Fields:\n",
    "* `concept_id` is the OMOP CDM `concept_id` for each condition\n",
    "* `concept_name` is the condition's OMOP CDM `concept_name`\n",
    "* `meddra_concept_id` is the conditions ID from MedDRA\n",
    "* `snomed_concept_id` is the conditions ID from SNOMED CT\n",
    "    * Many of the concepts do not have a `snomed_concept_id` in the table. We were primarily concerned with the MedDRA concept IDs, as these were the codes used for PRR, etc. computation."
   ]
  },
  {
   "cell_type": "code",
   "execution_count": 1,
   "metadata": {},
   "outputs": [],
   "source": [
    "import pandas as pd"
   ]
  },
  {
   "cell_type": "markdown",
   "metadata": {},
   "source": [
    "## Load original files"
   ]
  },
  {
   "cell_type": "code",
   "execution_count": 2,
   "metadata": {},
   "outputs": [
    {
     "data": {
      "text/html": [
       "<div>\n",
       "<style scoped>\n",
       "    .dataframe tbody tr th:only-of-type {\n",
       "        vertical-align: middle;\n",
       "    }\n",
       "\n",
       "    .dataframe tbody tr th {\n",
       "        vertical-align: top;\n",
       "    }\n",
       "\n",
       "    .dataframe thead th {\n",
       "        text-align: right;\n",
       "    }\n",
       "</style>\n",
       "<table border=\"1\" class=\"dataframe\">\n",
       "  <thead>\n",
       "    <tr style=\"text-align: right;\">\n",
       "      <th></th>\n",
       "      <th>report_id</th>\n",
       "      <th>outcome_concept_id</th>\n",
       "      <th>snomed_outcome_concept_id</th>\n",
       "      <th>report_index</th>\n",
       "      <th>outcome_index</th>\n",
       "    </tr>\n",
       "  </thead>\n",
       "  <tbody>\n",
       "    <tr>\n",
       "      <td>0</td>\n",
       "      <td>100033001</td>\n",
       "      <td>36516812</td>\n",
       "      <td>77074.0</td>\n",
       "      <td>4394326</td>\n",
       "      <td>10544</td>\n",
       "    </tr>\n",
       "    <tr>\n",
       "      <td>1</td>\n",
       "      <td>100033001</td>\n",
       "      <td>35708093</td>\n",
       "      <td>196523.0</td>\n",
       "      <td>4394326</td>\n",
       "      <td>3612</td>\n",
       "    </tr>\n",
       "  </tbody>\n",
       "</table>\n",
       "</div>"
      ],
      "text/plain": [
       "   report_id  outcome_concept_id  snomed_outcome_concept_id  report_index  \\\n",
       "0  100033001            36516812                    77074.0       4394326   \n",
       "1  100033001            35708093                   196523.0       4394326   \n",
       "\n",
       "   outcome_index  \n",
       "0          10544  \n",
       "1           3612  "
      ]
     },
     "execution_count": 2,
     "metadata": {},
     "output_type": "execute_result"
    }
   ],
   "source": [
    "outcomes_df = pd.read_csv('../../data/meta_formatted/outcomes_table.csv.xz')\n",
    "outcomes_df.head(2)"
   ]
  },
  {
   "cell_type": "code",
   "execution_count": 3,
   "metadata": {},
   "outputs": [
    {
     "name": "stderr",
     "output_type": "stream",
     "text": [
      "/home/mnz2108/miniconda3/envs/nsides/lib/python3.7/site-packages/IPython/core/interactiveshell.py:3058: DtypeWarning: Columns (6,9) have mixed types. Specify dtype option on import or set low_memory=False.\n",
      "  interactivity=interactivity, compiler=compiler, result=result)\n"
     ]
    },
    {
     "data": {
      "text/html": [
       "<div>\n",
       "<style scoped>\n",
       "    .dataframe tbody tr th:only-of-type {\n",
       "        vertical-align: middle;\n",
       "    }\n",
       "\n",
       "    .dataframe tbody tr th {\n",
       "        vertical-align: top;\n",
       "    }\n",
       "\n",
       "    .dataframe thead th {\n",
       "        text-align: right;\n",
       "    }\n",
       "</style>\n",
       "<table border=\"1\" class=\"dataframe\">\n",
       "  <thead>\n",
       "    <tr style=\"text-align: right;\">\n",
       "      <th></th>\n",
       "      <th>concept_id</th>\n",
       "      <th>concept_name</th>\n",
       "      <th>domain_id</th>\n",
       "      <th>vocabulary_id</th>\n",
       "      <th>concept_class_id</th>\n",
       "      <th>standard_concept</th>\n",
       "      <th>concept_code</th>\n",
       "      <th>valid_start_date</th>\n",
       "      <th>valid_end_date</th>\n",
       "      <th>invalid_reason</th>\n",
       "    </tr>\n",
       "  </thead>\n",
       "  <tbody>\n",
       "    <tr>\n",
       "      <td>0</td>\n",
       "      <td>45956931</td>\n",
       "      <td>Self-emulsifying glyceryl monostearate</td>\n",
       "      <td>Observation</td>\n",
       "      <td>SNOMED</td>\n",
       "      <td>Substance</td>\n",
       "      <td>S</td>\n",
       "      <td>3578611000001105</td>\n",
       "      <td>19700101</td>\n",
       "      <td>20991231</td>\n",
       "      <td>NaN</td>\n",
       "    </tr>\n",
       "    <tr>\n",
       "      <td>1</td>\n",
       "      <td>45956935</td>\n",
       "      <td>Sibutramine hydrochloride</td>\n",
       "      <td>Observation</td>\n",
       "      <td>SNOMED</td>\n",
       "      <td>Substance</td>\n",
       "      <td>S</td>\n",
       "      <td>3579011000001108</td>\n",
       "      <td>19700101</td>\n",
       "      <td>20991231</td>\n",
       "      <td>NaN</td>\n",
       "    </tr>\n",
       "  </tbody>\n",
       "</table>\n",
       "</div>"
      ],
      "text/plain": [
       "   concept_id                            concept_name    domain_id  \\\n",
       "0    45956931  Self-emulsifying glyceryl monostearate  Observation   \n",
       "1    45956935               Sibutramine hydrochloride  Observation   \n",
       "\n",
       "  vocabulary_id concept_class_id standard_concept      concept_code  \\\n",
       "0        SNOMED        Substance                S  3578611000001105   \n",
       "1        SNOMED        Substance                S  3579011000001108   \n",
       "\n",
       "   valid_start_date  valid_end_date invalid_reason  \n",
       "0          19700101        20991231            NaN  \n",
       "1          19700101        20991231            NaN  "
      ]
     },
     "execution_count": 3,
     "metadata": {},
     "output_type": "execute_result"
    }
   ],
   "source": [
    "concepts_df = pd.read_csv('../../data/athena_maps/CONCEPT.csv', sep='\\t')\n",
    "concepts_df.head(2)"
   ]
  },
  {
   "cell_type": "markdown",
   "metadata": {},
   "source": [
    "## Format original files to build `CONDITION_CONCEPT` table"
   ]
  },
  {
   "cell_type": "code",
   "execution_count": 4,
   "metadata": {},
   "outputs": [],
   "source": [
    "outcomes_df = (\n",
    "    outcomes_df\n",
    "    .rename(columns={'snomed_outcome_concept_id': 'snomed_concept_id'})\n",
    "    .filter(items=['outcome_concept_id', 'snomed_concept_id'])\n",
    "    .drop_duplicates()\n",
    ")\n",
    "\n",
    "concepts_df = (\n",
    "    concepts_df\n",
    "    .filter(items=['concept_id', 'concept_name', 'vocabulary_id', 'concept_code'])\n",
    "    .rename(columns={'concept_code': 'meddra_concept_id'})\n",
    ")"
   ]
  },
  {
   "cell_type": "markdown",
   "metadata": {},
   "source": [
    "## Combine original files and save to `data/tables/`"
   ]
  },
  {
   "cell_type": "code",
   "execution_count": 5,
   "metadata": {},
   "outputs": [
    {
     "data": {
      "text/html": [
       "<div>\n",
       "<style scoped>\n",
       "    .dataframe tbody tr th:only-of-type {\n",
       "        vertical-align: middle;\n",
       "    }\n",
       "\n",
       "    .dataframe tbody tr th {\n",
       "        vertical-align: top;\n",
       "    }\n",
       "\n",
       "    .dataframe thead th {\n",
       "        text-align: right;\n",
       "    }\n",
       "</style>\n",
       "<table border=\"1\" class=\"dataframe\">\n",
       "  <thead>\n",
       "    <tr style=\"text-align: right;\">\n",
       "      <th></th>\n",
       "      <th>concept_id</th>\n",
       "      <th>concept_name</th>\n",
       "      <th>meddra_concept_id</th>\n",
       "      <th>snomed_concept_id</th>\n",
       "    </tr>\n",
       "  </thead>\n",
       "  <tbody>\n",
       "    <tr>\n",
       "      <td>0</td>\n",
       "      <td>36516812</td>\n",
       "      <td>Arthralgia</td>\n",
       "      <td>10003239</td>\n",
       "      <td>77074.0</td>\n",
       "    </tr>\n",
       "    <tr>\n",
       "      <td>1</td>\n",
       "      <td>35708093</td>\n",
       "      <td>Diarrhoea</td>\n",
       "      <td>10012735</td>\n",
       "      <td>196523.0</td>\n",
       "    </tr>\n",
       "  </tbody>\n",
       "</table>\n",
       "</div>"
      ],
      "text/plain": [
       "   concept_id concept_name meddra_concept_id  snomed_concept_id\n",
       "0    36516812   Arthralgia          10003239            77074.0\n",
       "1    35708093    Diarrhoea          10012735           196523.0"
      ]
     },
     "execution_count": 5,
     "metadata": {},
     "output_type": "execute_result"
    }
   ],
   "source": [
    "condition_concept_df = (\n",
    "    outcomes_df\n",
    "    .merge(concepts_df, left_on='outcome_concept_id',  right_on='concept_id', how='left')\n",
    "    .filter(items=['concept_id', 'concept_name', 'meddra_concept_id', 'snomed_concept_id'])\n",
    ")\n",
    "\n",
    "condition_concept_df.to_csv('../../data/tables/condition_concept.csv.xz',\n",
    "                            compression='xz', index=False)\n",
    "\n",
    "condition_concept_df.head(2)"
   ]
  }
 ],
 "metadata": {
  "kernelspec": {
   "display_name": "Python [conda env:nsides] *",
   "language": "python",
   "name": "conda-env-nsides-py"
  },
  "language_info": {
   "codemirror_mode": {
    "name": "ipython",
    "version": 3
   },
   "file_extension": ".py",
   "mimetype": "text/x-python",
   "name": "python",
   "nbconvert_exporter": "python",
   "pygments_lexer": "ipython3",
   "version": "3.7.3"
  }
 },
 "nbformat": 4,
 "nbformat_minor": 2
}
