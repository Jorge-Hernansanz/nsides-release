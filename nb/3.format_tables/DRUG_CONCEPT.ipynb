{
 "cells": [
  {
   "cell_type": "markdown",
   "metadata": {},
   "source": [
    "# `DRUG_CONCEPT`\n",
    "\n",
    "`DRUG_CONCEPT` is a table in the `effect_nsides` database that stores drugs.\n",
    "This table only stores those drugs which appear in `DRUG_EXPOSURE`.\n",
    "The schema for this table is the following:\n",
    "\n",
    "```mysql\n",
    "CREATE TABLE DRUG_CONCEPT (\n",
    "    concept_id int\n",
    "    concept_name varchar(255)\n",
    "    rxnorm_concept_id int\n",
    "    drugbank_concept_id varchar(255)\n",
    "    chebi_concept_id int\n",
    ")\n",
    "```\n",
    "\n",
    "Fields:\n",
    "* `concept_id` is the OMOP CDM `concept_id` for each drug\n",
    "* `concept_name` is the drug's OMOP CDM `concept_name`\n",
    "* `rxnorm_concept_id` is the drug's ID from RxNorm\n",
    "* `drugbank_concept_id` is the drug's ID from DrugBank\n",
    "* `chebi_concept_id` is the drug's ID from ChEBI\n",
    "\n",
    "Note that while all drugs are guaranteed to have RxNorm and OMOP CDM IDs, there are a sizable fraction of drugs that could not be mapped to DrugBank or ChEBI identifiers."
   ]
  },
  {
   "cell_type": "code",
   "execution_count": 1,
   "metadata": {},
   "outputs": [],
   "source": [
    "import numpy as np\n",
    "import pandas as pd"
   ]
  },
  {
   "cell_type": "markdown",
   "metadata": {},
   "source": [
    "## Load RxNorm codes that were used"
   ]
  },
  {
   "cell_type": "code",
   "execution_count": 2,
   "metadata": {},
   "outputs": [
    {
     "name": "stdout",
     "output_type": "stream",
     "text": [
      "3453\n"
     ]
    },
    {
     "data": {
      "text/html": [
       "<div>\n",
       "<style scoped>\n",
       "    .dataframe tbody tr th:only-of-type {\n",
       "        vertical-align: middle;\n",
       "    }\n",
       "\n",
       "    .dataframe tbody tr th {\n",
       "        vertical-align: top;\n",
       "    }\n",
       "\n",
       "    .dataframe thead th {\n",
       "        text-align: right;\n",
       "    }\n",
       "</style>\n",
       "<table border=\"1\" class=\"dataframe\">\n",
       "  <thead>\n",
       "    <tr style=\"text-align: right;\">\n",
       "      <th></th>\n",
       "      <th>rxnorm_concept_id</th>\n",
       "    </tr>\n",
       "  </thead>\n",
       "  <tbody>\n",
       "    <tr>\n",
       "      <td>0</td>\n",
       "      <td>314826</td>\n",
       "    </tr>\n",
       "    <tr>\n",
       "      <td>1</td>\n",
       "      <td>8167</td>\n",
       "    </tr>\n",
       "  </tbody>\n",
       "</table>\n",
       "</div>"
      ],
      "text/plain": [
       "   rxnorm_concept_id\n",
       "0             314826\n",
       "1               8167"
      ]
     },
     "execution_count": 2,
     "metadata": {},
     "output_type": "execute_result"
    }
   ],
   "source": [
    "drug_id_vector = np.load('../../data/meta_formatted/drug_id_vector.npy')\n",
    "\n",
    "drug_code_df = (\n",
    "    pd.DataFrame(drug_id_vector, columns=['rxnorm_concept_id'])\n",
    "    .drop_duplicates()\n",
    ")\n",
    "\n",
    "print(drug_code_df.shape[0])\n",
    "\n",
    "drug_code_df.head(2)"
   ]
  },
  {
   "cell_type": "markdown",
   "metadata": {},
   "source": [
    "## Load RxNorm - OMOP concept_id mapping (Map from ATHENA)"
   ]
  },
  {
   "cell_type": "code",
   "execution_count": 3,
   "metadata": {},
   "outputs": [
    {
     "data": {
      "text/html": [
       "<div>\n",
       "<style scoped>\n",
       "    .dataframe tbody tr th:only-of-type {\n",
       "        vertical-align: middle;\n",
       "    }\n",
       "\n",
       "    .dataframe tbody tr th {\n",
       "        vertical-align: top;\n",
       "    }\n",
       "\n",
       "    .dataframe thead th {\n",
       "        text-align: right;\n",
       "    }\n",
       "</style>\n",
       "<table border=\"1\" class=\"dataframe\">\n",
       "  <thead>\n",
       "    <tr style=\"text-align: right;\">\n",
       "      <th></th>\n",
       "      <th>concept_id</th>\n",
       "      <th>concept_name</th>\n",
       "      <th>domain_id</th>\n",
       "      <th>vocabulary_id</th>\n",
       "      <th>concept_class_id</th>\n",
       "      <th>standard_concept</th>\n",
       "      <th>concept_code</th>\n",
       "      <th>valid_start_date</th>\n",
       "      <th>valid_end_date</th>\n",
       "      <th>invalid_reason</th>\n",
       "    </tr>\n",
       "  </thead>\n",
       "  <tbody>\n",
       "    <tr>\n",
       "      <td>1</td>\n",
       "      <td>1510703</td>\n",
       "      <td>Helleborus extract</td>\n",
       "      <td>Drug</td>\n",
       "      <td>RxNorm</td>\n",
       "      <td>Ingredient</td>\n",
       "      <td>S</td>\n",
       "      <td>2047647</td>\n",
       "      <td>20180702</td>\n",
       "      <td>20991231</td>\n",
       "      <td>NaN</td>\n",
       "    </tr>\n",
       "    <tr>\n",
       "      <td>2</td>\n",
       "      <td>1510746</td>\n",
       "      <td>{28 (Norethindrone 0.35 MG Oral Tablet) } Pack...</td>\n",
       "      <td>Drug</td>\n",
       "      <td>RxNorm</td>\n",
       "      <td>Branded Pack</td>\n",
       "      <td>S</td>\n",
       "      <td>2043465</td>\n",
       "      <td>20180702</td>\n",
       "      <td>20991231</td>\n",
       "      <td>NaN</td>\n",
       "    </tr>\n",
       "  </tbody>\n",
       "</table>\n",
       "</div>"
      ],
      "text/plain": [
       "  concept_id                                       concept_name domain_id  \\\n",
       "1    1510703                                 Helleborus extract      Drug   \n",
       "2    1510746  {28 (Norethindrone 0.35 MG Oral Tablet) } Pack...      Drug   \n",
       "\n",
       "  vocabulary_id concept_class_id standard_concept  concept_code  \\\n",
       "1        RxNorm       Ingredient                S       2047647   \n",
       "2        RxNorm     Branded Pack                S       2043465   \n",
       "\n",
       "  valid_start_date valid_end_date invalid_reason  \n",
       "1         20180702       20991231            NaN  \n",
       "2         20180702       20991231            NaN  "
      ]
     },
     "execution_count": 3,
     "metadata": {},
     "output_type": "execute_result"
    }
   ],
   "source": [
    "athena_rxnorm_df = (\n",
    "    pd.read_csv('../../data/external_maps/RxNorm.csv', sep='\\t', dtype=str)\n",
    "    .query('vocabulary_id == \"RxNorm\"')   \n",
    "    .assign(concept_code=lambda df: df['concept_code'].astype(int))\n",
    ")\n",
    "\n",
    "athena_rxnorm_df.head(2)"
   ]
  },
  {
   "cell_type": "code",
   "execution_count": 4,
   "metadata": {},
   "outputs": [
    {
     "name": "stdout",
     "output_type": "stream",
     "text": [
      "3453\n"
     ]
    },
    {
     "data": {
      "text/html": [
       "<div>\n",
       "<style scoped>\n",
       "    .dataframe tbody tr th:only-of-type {\n",
       "        vertical-align: middle;\n",
       "    }\n",
       "\n",
       "    .dataframe tbody tr th {\n",
       "        vertical-align: top;\n",
       "    }\n",
       "\n",
       "    .dataframe thead th {\n",
       "        text-align: right;\n",
       "    }\n",
       "</style>\n",
       "<table border=\"1\" class=\"dataframe\">\n",
       "  <thead>\n",
       "    <tr style=\"text-align: right;\">\n",
       "      <th></th>\n",
       "      <th>concept_id</th>\n",
       "      <th>concept_name</th>\n",
       "      <th>rxnorm_concept_id</th>\n",
       "    </tr>\n",
       "  </thead>\n",
       "  <tbody>\n",
       "    <tr>\n",
       "      <td>0</td>\n",
       "      <td>19080523</td>\n",
       "      <td>silicon dioxide, colloidal</td>\n",
       "      <td>314826</td>\n",
       "    </tr>\n",
       "    <tr>\n",
       "      <td>1</td>\n",
       "      <td>19132892</td>\n",
       "      <td>phenylhydrazine</td>\n",
       "      <td>8167</td>\n",
       "    </tr>\n",
       "  </tbody>\n",
       "</table>\n",
       "</div>"
      ],
      "text/plain": [
       "  concept_id                concept_name  rxnorm_concept_id\n",
       "0   19080523  silicon dioxide, colloidal             314826\n",
       "1   19132892             phenylhydrazine               8167"
      ]
     },
     "execution_count": 4,
     "metadata": {},
     "output_type": "execute_result"
    }
   ],
   "source": [
    "drug_concept = (\n",
    "    drug_code_df\n",
    "    .merge(athena_rxnorm_df, left_on='rxnorm_concept_id', right_on='concept_code', how='left')\n",
    "    .filter(items=['concept_id', 'concept_name', 'rxnorm_concept_id'])\n",
    ")\n",
    "\n",
    "# Check that all RxNorm IDs were mapped to OMOP CDM concept_id\n",
    "assert not drug_concept.isnull().any().any()\n",
    "\n",
    "print(len(set(drug_concept['concept_id'])))\n",
    "\n",
    "drug_concept.head(2)"
   ]
  },
  {
   "cell_type": "markdown",
   "metadata": {},
   "source": [
    "## Load RxNorm to DrugBank mapping (Map from RxNorm)"
   ]
  },
  {
   "cell_type": "code",
   "execution_count": 5,
   "metadata": {},
   "outputs": [],
   "source": [
    "# https://www.nlm.nih.gov/research/umls/rxnorm/docs/techdoc.html#s12_0\n",
    "column_names = ['RXCUI', 'LAT', 'TS', 'LUI', 'STT', 'SUI', 'ISPREF', 'RXAUI', \n",
    "                'SAUI', 'SCUI', 'SDUI', 'SAB', 'TTY', 'CODE', 'STR', 'SRL', \n",
    "                'SUPPRESS', 'CVF']\n",
    "\n",
    "map_df = pd.read_csv('../../data/external_maps/RXNCONSO.RRF', sep='|', header=None, \n",
    "                     names=column_names, index_col=False)"
   ]
  },
  {
   "cell_type": "code",
   "execution_count": 6,
   "metadata": {},
   "outputs": [
    {
     "data": {
      "text/plain": [
       "1    8784\n",
       "2      63\n",
       "4       6\n",
       "3       4\n",
       "5       3\n",
       "6       2\n",
       "8       2\n",
       "7       1\n",
       "Name: CODE, dtype: int64"
      ]
     },
     "execution_count": 6,
     "metadata": {},
     "output_type": "execute_result"
    }
   ],
   "source": [
    "# Number of unique DrugBank codes for a single RXCUI\n",
    "(\n",
    "    map_df\n",
    "    .query('SAB == \"DRUGBANK\"')\n",
    "    .groupby('RXCUI')['CODE']\n",
    "    .nunique()\n",
    "    .value_counts()\n",
    ")"
   ]
  },
  {
   "cell_type": "code",
   "execution_count": 7,
   "metadata": {},
   "outputs": [
    {
     "data": {
      "text/html": [
       "<div>\n",
       "<style scoped>\n",
       "    .dataframe tbody tr th:only-of-type {\n",
       "        vertical-align: middle;\n",
       "    }\n",
       "\n",
       "    .dataframe tbody tr th {\n",
       "        vertical-align: top;\n",
       "    }\n",
       "\n",
       "    .dataframe thead th {\n",
       "        text-align: right;\n",
       "    }\n",
       "</style>\n",
       "<table border=\"1\" class=\"dataframe\">\n",
       "  <thead>\n",
       "    <tr style=\"text-align: right;\">\n",
       "      <th></th>\n",
       "      <th>rxnorm_concept_id</th>\n",
       "      <th>drugbank_concept_id</th>\n",
       "      <th>drugbank_concept_name</th>\n",
       "    </tr>\n",
       "  </thead>\n",
       "  <tbody>\n",
       "    <tr>\n",
       "      <td>0</td>\n",
       "      <td>60</td>\n",
       "      <td>DB01509</td>\n",
       "      <td>Tenamfetamine</td>\n",
       "    </tr>\n",
       "    <tr>\n",
       "      <td>1</td>\n",
       "      <td>74</td>\n",
       "      <td>DB02362</td>\n",
       "      <td>Aminobenzoic acid</td>\n",
       "    </tr>\n",
       "  </tbody>\n",
       "</table>\n",
       "</div>"
      ],
      "text/plain": [
       "   rxnorm_concept_id drugbank_concept_id drugbank_concept_name\n",
       "0                 60             DB01509         Tenamfetamine\n",
       "1                 74             DB02362     Aminobenzoic acid"
      ]
     },
     "execution_count": 7,
     "metadata": {},
     "output_type": "execute_result"
    }
   ],
   "source": [
    "rxnorm_to_drugbank = (\n",
    "    map_df\n",
    "    .query('SAB == \"DRUGBANK\"')\n",
    "    .drop(['LAT', 'TS', 'LUI', 'STT', 'SUI', 'ISPREF', 'SCUI', 'SDUI',\n",
    "           'RXAUI', 'SAUI', 'SAB', 'SRL', 'SUPPRESS', 'CVF',], axis=1)\n",
    "    .assign(sort_index=lambda df: df['TTY'].map({'IN': 1, 'FSY': 2, 'SY': 2}))\n",
    "    .sort_values('sort_index', ascending=True)\n",
    "    .groupby('RXCUI')\n",
    "    .first()\n",
    "    .reset_index()\n",
    "    .drop(['sort_index', 'TTY'], axis=1)\n",
    "    .rename(columns={'RXCUI': 'rxnorm_concept_id', 'CODE': 'drugbank_concept_id', \n",
    "                     'STR': 'drugbank_concept_name'})\n",
    ")\n",
    "\n",
    "rxnorm_to_drugbank.head(2)"
   ]
  },
  {
   "cell_type": "markdown",
   "metadata": {},
   "source": [
    "## Load DrugBank links file (from DrugBank)\n",
    "\n",
    "Of interest, this contains DrugBank IDs, ChEBI IDs, and drug names."
   ]
  },
  {
   "cell_type": "code",
   "execution_count": 8,
   "metadata": {},
   "outputs": [
    {
     "data": {
      "text/html": [
       "<div>\n",
       "<style scoped>\n",
       "    .dataframe tbody tr th:only-of-type {\n",
       "        vertical-align: middle;\n",
       "    }\n",
       "\n",
       "    .dataframe tbody tr th {\n",
       "        vertical-align: top;\n",
       "    }\n",
       "\n",
       "    .dataframe thead th {\n",
       "        text-align: right;\n",
       "    }\n",
       "</style>\n",
       "<table border=\"1\" class=\"dataframe\">\n",
       "  <thead>\n",
       "    <tr style=\"text-align: right;\">\n",
       "      <th></th>\n",
       "      <th>drugbank_concept_id</th>\n",
       "      <th>drugbank_concept_name</th>\n",
       "      <th>chebi_concept_id</th>\n",
       "      <th>name_lower</th>\n",
       "    </tr>\n",
       "  </thead>\n",
       "  <tbody>\n",
       "    <tr>\n",
       "      <td>0</td>\n",
       "      <td>DB00001</td>\n",
       "      <td>Lepirudin</td>\n",
       "      <td>NaN</td>\n",
       "      <td>lepirudin</td>\n",
       "    </tr>\n",
       "    <tr>\n",
       "      <td>1</td>\n",
       "      <td>DB00002</td>\n",
       "      <td>Cetuximab</td>\n",
       "      <td>NaN</td>\n",
       "      <td>cetuximab</td>\n",
       "    </tr>\n",
       "  </tbody>\n",
       "</table>\n",
       "</div>"
      ],
      "text/plain": [
       "  drugbank_concept_id drugbank_concept_name  chebi_concept_id name_lower\n",
       "0             DB00001             Lepirudin               NaN  lepirudin\n",
       "1             DB00002             Cetuximab               NaN  cetuximab"
      ]
     },
     "execution_count": 8,
     "metadata": {},
     "output_type": "execute_result"
    }
   ],
   "source": [
    "db_df = (\n",
    "    pd.read_csv('../../data/external_maps/drug links.csv')\n",
    "    .assign(name_lower=lambda df: df['Name'].apply(lambda x: x.lower()))\n",
    "    .rename(columns={'DrugBank ID': 'drugbank_concept_id', 'Name': 'drugbank_concept_name', \n",
    "                     'ChEBI ID': 'chebi_concept_id'})\n",
    "    .filter(items=['drugbank_concept_id', 'drugbank_concept_name', 'chebi_concept_id', 'name_lower'])\n",
    ")\n",
    "\n",
    "db_df.head(2)"
   ]
  },
  {
   "cell_type": "code",
   "execution_count": 9,
   "metadata": {},
   "outputs": [
    {
     "data": {
      "text/html": [
       "<div>\n",
       "<style scoped>\n",
       "    .dataframe tbody tr th:only-of-type {\n",
       "        vertical-align: middle;\n",
       "    }\n",
       "\n",
       "    .dataframe tbody tr th {\n",
       "        vertical-align: top;\n",
       "    }\n",
       "\n",
       "    .dataframe thead th {\n",
       "        text-align: right;\n",
       "    }\n",
       "</style>\n",
       "<table border=\"1\" class=\"dataframe\">\n",
       "  <thead>\n",
       "    <tr style=\"text-align: right;\">\n",
       "      <th></th>\n",
       "      <th>concept_id</th>\n",
       "      <th>concept_name</th>\n",
       "      <th>rxnorm_concept_id</th>\n",
       "      <th>drugbank_concept_id</th>\n",
       "      <th>chebi_concept_id</th>\n",
       "    </tr>\n",
       "  </thead>\n",
       "  <tbody>\n",
       "    <tr>\n",
       "      <td>0</td>\n",
       "      <td>19080523</td>\n",
       "      <td>silicon dioxide, colloidal</td>\n",
       "      <td>314826</td>\n",
       "      <td>DB11132</td>\n",
       "      <td>30563.0</td>\n",
       "    </tr>\n",
       "    <tr>\n",
       "      <td>1</td>\n",
       "      <td>42903427</td>\n",
       "      <td>Aldosterone</td>\n",
       "      <td>1312358</td>\n",
       "      <td>DB04630</td>\n",
       "      <td>27584.0</td>\n",
       "    </tr>\n",
       "  </tbody>\n",
       "</table>\n",
       "</div>"
      ],
      "text/plain": [
       "  concept_id                concept_name  rxnorm_concept_id  \\\n",
       "0   19080523  silicon dioxide, colloidal             314826   \n",
       "1   42903427                 Aldosterone            1312358   \n",
       "\n",
       "  drugbank_concept_id  chebi_concept_id  \n",
       "0             DB11132           30563.0  \n",
       "1             DB04630           27584.0  "
      ]
     },
     "execution_count": 9,
     "metadata": {},
     "output_type": "execute_result"
    }
   ],
   "source": [
    "# Map through RxNorm CUIs if possible\n",
    "mapped_by_rxnorm = (\n",
    "    drug_concept\n",
    "    .merge(rxnorm_to_drugbank, how='left', on='rxnorm_concept_id')\n",
    "    .drop(['drugbank_concept_name'], axis=1)\n",
    "    .merge(db_df, on='drugbank_concept_id', how='left')\n",
    "    .filter(items=['concept_id', 'concept_name', 'rxnorm_concept_id', \n",
    "                   'drugbank_concept_id', 'chebi_concept_id'])\n",
    ")\n",
    "\n",
    "# Map remaining terms through their names (taken to lowercase)\n",
    "mapped_by_name = (\n",
    "    mapped_by_rxnorm\n",
    "    .loc[mapped_by_rxnorm['drugbank_concept_id'].isnull(), ['concept_id', 'concept_name', 'rxnorm_concept_id']]\n",
    "    .assign(name_lower=lambda df: df['concept_name'].apply(lambda x: x.lower()))\n",
    "    .merge(db_df, how='left', on='name_lower')\n",
    "    .filter(items=['concept_id', 'concept_name', 'rxnorm_concept_id', \n",
    "                   'drugbank_concept_id', 'chebi_concept_id'])\n",
    ")\n",
    "\n",
    "# Combine the two mapping paths\n",
    "drug_concept = pd.concat([mapped_by_rxnorm.dropna(subset=['drugbank_concept_id']), \n",
    "                          mapped_by_name], ignore_index=True, sort=False)\n",
    "\n",
    "drug_concept.to_csv('../../data/tables/drug_concept.csv.xz', index=False, compression='xz')\n",
    "\n",
    "drug_concept.head(2)"
   ]
  },
  {
   "cell_type": "code",
   "execution_count": 10,
   "metadata": {},
   "outputs": [
    {
     "name": "stdout",
     "output_type": "stream",
     "text": [
      "DrugBank 20.79% unmapped, ChEBI 38.26% unmapped\n"
     ]
    }
   ],
   "source": [
    "# Fraction of concepts without a DrugBank mapping\n",
    "db_un = drug_concept[drug_concept['drugbank_concept_id'].isnull()].shape[0] / drug_concept.shape[0]\n",
    "\n",
    "# Fraction of concepts without a ChEBI mapping\n",
    "ch_un = drug_concept[drug_concept['chebi_concept_id'].isnull()].shape[0] / drug_concept.shape[0]\n",
    "\n",
    "print(f'DrugBank {100 * db_un :.2f}% unmapped, ChEBI {100 * ch_un :.2f}% unmapped')"
   ]
  }
 ],
 "metadata": {
  "kernelspec": {
   "display_name": "Python [conda env:nsides] *",
   "language": "python",
   "name": "conda-env-nsides-py"
  },
  "language_info": {
   "codemirror_mode": {
    "name": "ipython",
    "version": 3
   },
   "file_extension": ".py",
   "mimetype": "text/x-python",
   "name": "python",
   "nbconvert_exporter": "python",
   "pygments_lexer": "ipython3",
   "version": "3.7.3"
  }
 },
 "nbformat": 4,
 "nbformat_minor": 2
}
