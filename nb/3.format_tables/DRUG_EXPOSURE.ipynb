{
 "cells": [
  {
   "cell_type": "markdown",
   "metadata": {},
   "source": [
    "# `DRUG_EXPOSURE`\n",
    "\n",
    "`DRUG_EXPOSURE` is a table in the `effect_nsides` database that stores relationships between reports and their drug exposures.\n",
    "The schema for this table is the following:\n",
    "\n",
    "```mysql\n",
    "CREATE TABLE DRUG_EXPOSURE (\n",
    "    report_id int\n",
    "    drug_concept_id int\n",
    ")\n",
    "```\n",
    "\n",
    "Fields:\n",
    "* `report_id` is the ID for each report, from the FDA itself. This is a foreign key for `REPORT.report_id`.\n",
    "* `drug_concept_id` is the OMOP CDM `concept_id` for each drug. This is a foreign key for `DRUG_CONCEPT.concept_id`."
   ]
  },
  {
   "cell_type": "code",
   "execution_count": 1,
   "metadata": {},
   "outputs": [],
   "source": [
    "import numpy as np\n",
    "import pandas as pd\n",
    "import scipy.sparse"
   ]
  },
  {
   "cell_type": "markdown",
   "metadata": {},
   "source": [
    "## Load the relationships (in matrix form)"
   ]
  },
  {
   "cell_type": "code",
   "execution_count": 2,
   "metadata": {},
   "outputs": [
    {
     "data": {
      "text/html": [
       "<div>\n",
       "<style scoped>\n",
       "    .dataframe tbody tr th:only-of-type {\n",
       "        vertical-align: middle;\n",
       "    }\n",
       "\n",
       "    .dataframe tbody tr th {\n",
       "        vertical-align: top;\n",
       "    }\n",
       "\n",
       "    .dataframe thead th {\n",
       "        text-align: right;\n",
       "    }\n",
       "</style>\n",
       "<table border=\"1\" class=\"dataframe\">\n",
       "  <thead>\n",
       "    <tr style=\"text-align: right;\">\n",
       "      <th></th>\n",
       "      <th>report_index</th>\n",
       "      <th>drug_index</th>\n",
       "    </tr>\n",
       "  </thead>\n",
       "  <tbody>\n",
       "    <tr>\n",
       "      <td>0</td>\n",
       "      <td>303276</td>\n",
       "      <td>0</td>\n",
       "    </tr>\n",
       "    <tr>\n",
       "      <td>1</td>\n",
       "      <td>688781</td>\n",
       "      <td>0</td>\n",
       "    </tr>\n",
       "  </tbody>\n",
       "</table>\n",
       "</div>"
      ],
      "text/plain": [
       "   report_index  drug_index\n",
       "0        303276           0\n",
       "1        688781           0"
      ]
     },
     "execution_count": 2,
     "metadata": {},
     "output_type": "execute_result"
    }
   ],
   "source": [
    "report_id_vector = np.load('../../data/meta_formatted/report_id_vector.npy')\n",
    "drug_id_vector = np.load('../../data/meta_formatted/drug_id_vector.npy')\n",
    "\n",
    "drug_exposure_matrix = scipy.sparse.load_npz('../../data/meta_formatted/drug_exposure_matrix.npz').tocoo()\n",
    "\n",
    "# Convert exposures matrix to a pandas.DataFrame\n",
    "exposures_df = pd.DataFrame(zip(drug_exposure_matrix.row, drug_exposure_matrix.col),\n",
    "                            columns=['report_index', 'drug_index'])\n",
    "\n",
    "exposures_df.head(2)"
   ]
  },
  {
   "cell_type": "markdown",
   "metadata": {},
   "source": [
    "## Load RxNorm CUIs to OMOP CDM `concept_id` map"
   ]
  },
  {
   "cell_type": "code",
   "execution_count": 3,
   "metadata": {},
   "outputs": [],
   "source": [
    "drug_concept_df = pd.read_csv('../../data/tables/drug_concept.csv.xz')\n",
    "rxnorm_to_concept_id = (\n",
    "    drug_concept_df\n",
    "    .set_index('rxnorm_concept_id')['concept_id']\n",
    "    .to_dict()\n",
    ")"
   ]
  },
  {
   "cell_type": "markdown",
   "metadata": {},
   "source": [
    "## Apply mapping and save `DRUG_EXPOSURE`"
   ]
  },
  {
   "cell_type": "code",
   "execution_count": 4,
   "metadata": {},
   "outputs": [
    {
     "data": {
      "text/html": [
       "<div>\n",
       "<style scoped>\n",
       "    .dataframe tbody tr th:only-of-type {\n",
       "        vertical-align: middle;\n",
       "    }\n",
       "\n",
       "    .dataframe tbody tr th {\n",
       "        vertical-align: top;\n",
       "    }\n",
       "\n",
       "    .dataframe thead th {\n",
       "        text-align: right;\n",
       "    }\n",
       "</style>\n",
       "<table border=\"1\" class=\"dataframe\">\n",
       "  <thead>\n",
       "    <tr style=\"text-align: right;\">\n",
       "      <th></th>\n",
       "      <th>report_id</th>\n",
       "      <th>drug_concept_id</th>\n",
       "    </tr>\n",
       "  </thead>\n",
       "  <tbody>\n",
       "    <tr>\n",
       "      <td>0</td>\n",
       "      <td>6869784</td>\n",
       "      <td>19080523</td>\n",
       "    </tr>\n",
       "    <tr>\n",
       "      <td>1</td>\n",
       "      <td>4709196</td>\n",
       "      <td>19080523</td>\n",
       "    </tr>\n",
       "  </tbody>\n",
       "</table>\n",
       "</div>"
      ],
      "text/plain": [
       "   report_id  drug_concept_id\n",
       "0    6869784         19080523\n",
       "1    4709196         19080523"
      ]
     },
     "execution_count": 4,
     "metadata": {},
     "output_type": "execute_result"
    }
   ],
   "source": [
    "drug_exposure = (\n",
    "    exposures_df\n",
    "    .assign(\n",
    "        report_id=lambda df: df['report_index'].map(lambda x: report_id_vector[x]),\n",
    "        drug_rxnorm_id=lambda df: df['drug_index'].map(lambda x: drug_id_vector[x]),\n",
    "        drug_concept_id=lambda df: df['drug_rxnorm_id'].map(rxnorm_to_concept_id),\n",
    "    )\n",
    "    .filter(items=['report_id', 'drug_concept_id'])\n",
    ")\n",
    "\n",
    "drug_exposure.to_csv('../../data/tables/drug_exposure.csv.xz', compression='xz', \n",
    "                     index=False)\n",
    "\n",
    "drug_exposure.head(2)"
   ]
  }
 ],
 "metadata": {
  "kernelspec": {
   "display_name": "Python [conda env:nsides] *",
   "language": "python",
   "name": "conda-env-nsides-py"
  },
  "language_info": {
   "codemirror_mode": {
    "name": "ipython",
    "version": 3
   },
   "file_extension": ".py",
   "mimetype": "text/x-python",
   "name": "python",
   "nbconvert_exporter": "python",
   "pygments_lexer": "ipython3",
   "version": "3.7.3"
  }
 },
 "nbformat": 4,
 "nbformat_minor": 2
}
