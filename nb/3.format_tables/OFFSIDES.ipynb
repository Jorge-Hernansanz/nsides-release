{
 "cells": [
  {
   "cell_type": "markdown",
   "metadata": {},
   "source": [
    "# `OFFSIDES`\n",
    "\n",
    "`OFFSIDES` is a table in the `effect_nsides` database that contains disproportionality statistics (PRR, PRR_error, A, B, C, D, and the mean reporting frequency) for single drug--single outcome relationships.\n",
    "\n",
    "When computing the OFFSIDES data, it turns out that the drug IDs used were RxNorm CUIs.\n",
    "For the database, I would prefer to have OMOP CDM `concept_id`s in the `OFFSIDES.drug_concept_id` field (similarly for TWOSIDES).\n",
    "\n",
    "Once OFFSIDES was computed on AWS, I transferred the resulting file to `data/tables/offsides.csv.xz`.\n",
    "This notebook simply loads that file and maps drug IDs to OMOP CDM `concept_id`s.\n",
    "\n",
    "The schema of `OFFSIDES` is the following:\n",
    "\n",
    "```mysql\n",
    "CREATE TABLE OFFSIDES (\n",
    "    drug_concept_id int\n",
    "    condition_concept_id int\n",
    "    prr float\n",
    "    prr_error float\n",
    "    a float\n",
    "    b float \n",
    "    c float\n",
    "    d float \n",
    "    mean_reporting_frequency float\n",
    ")\n",
    "```\n",
    "\n",
    "These fields have the following meanings:\n",
    "\n",
    "* `drug_concept_id` - OMOP CDM `concept_id` for the drug. Foreign key to `DRUG_CONCEPT.concept_id`.\n",
    "* `condition_concept_id` - OMOP CDM `concept_id` for the condition. Foreign key to `CONDITION_CONCEPT.concept_id`.\n",
    "* `prr` - Disproportionality statistic\n",
    "* `prr_error` - Error term for PRR\n",
    "* `a` - Number of drug-exposed reports having the condition\n",
    "* `b` - Number of drug-exposed reports not having the condition\n",
    "* `c` - Number of unexposed reports having the condition\n",
    "* `d` - Number of unexposed reports not having the condition\n",
    "* `mean_reporting_frequency` - ?\n",
    "\n",
    "$$\\mathrm{PRR} = \\frac{\\frac{A}{A + B}}{\\frac{C}{C + D}}$$\n",
    "\n",
    "$$\\mathrm{PRR_{error}} = \\sqrt{1 / A + 1 / C - 1 / (A + B) - 1 / (C + D)}$$"
   ]
  },
  {
   "cell_type": "code",
   "execution_count": 1,
   "metadata": {},
   "outputs": [],
   "source": [
    "import pandas as pd"
   ]
  },
  {
   "cell_type": "markdown",
   "metadata": {},
   "source": [
    "## Load OFFSIDES table"
   ]
  },
  {
   "cell_type": "code",
   "execution_count": 2,
   "metadata": {},
   "outputs": [
    {
     "data": {
      "text/html": [
       "<div>\n",
       "<style scoped>\n",
       "    .dataframe tbody tr th:only-of-type {\n",
       "        vertical-align: middle;\n",
       "    }\n",
       "\n",
       "    .dataframe tbody tr th {\n",
       "        vertical-align: top;\n",
       "    }\n",
       "\n",
       "    .dataframe thead th {\n",
       "        text-align: right;\n",
       "    }\n",
       "</style>\n",
       "<table border=\"1\" class=\"dataframe\">\n",
       "  <thead>\n",
       "    <tr style=\"text-align: right;\">\n",
       "      <th></th>\n",
       "      <th>drug_id</th>\n",
       "      <th>outcome_id</th>\n",
       "      <th>A</th>\n",
       "      <th>B</th>\n",
       "      <th>C</th>\n",
       "      <th>D</th>\n",
       "      <th>PRR</th>\n",
       "      <th>PRR_error</th>\n",
       "    </tr>\n",
       "  </thead>\n",
       "  <tbody>\n",
       "    <tr>\n",
       "      <td>0</td>\n",
       "      <td>33835</td>\n",
       "      <td>35104074</td>\n",
       "      <td>2.0</td>\n",
       "      <td>34.0</td>\n",
       "      <td>8.0</td>\n",
       "      <td>352.0</td>\n",
       "      <td>2.5</td>\n",
       "      <td>0.771002</td>\n",
       "    </tr>\n",
       "    <tr>\n",
       "      <td>1</td>\n",
       "      <td>33835</td>\n",
       "      <td>35104113</td>\n",
       "      <td>0.0</td>\n",
       "      <td>36.0</td>\n",
       "      <td>1.0</td>\n",
       "      <td>359.0</td>\n",
       "      <td>0.0</td>\n",
       "      <td>inf</td>\n",
       "    </tr>\n",
       "  </tbody>\n",
       "</table>\n",
       "</div>"
      ],
      "text/plain": [
       "   drug_id  outcome_id    A     B    C      D  PRR  PRR_error\n",
       "0    33835    35104074  2.0  34.0  8.0  352.0  2.5   0.771002\n",
       "1    33835    35104113  0.0  36.0  1.0  359.0  0.0        inf"
      ]
     },
     "execution_count": 2,
     "metadata": {},
     "output_type": "execute_result"
    }
   ],
   "source": [
    "offsides = pd.read_csv('../../data/tables/offsides.csv.xz')\n",
    "\n",
    "offsides.head(2)"
   ]
  },
  {
   "cell_type": "markdown",
   "metadata": {},
   "source": [
    "## Load DRUG_CONCEPT table (for mapping RXCUI - OMOP)"
   ]
  },
  {
   "cell_type": "code",
   "execution_count": 3,
   "metadata": {},
   "outputs": [
    {
     "data": {
      "text/html": [
       "<div>\n",
       "<style scoped>\n",
       "    .dataframe tbody tr th:only-of-type {\n",
       "        vertical-align: middle;\n",
       "    }\n",
       "\n",
       "    .dataframe tbody tr th {\n",
       "        vertical-align: top;\n",
       "    }\n",
       "\n",
       "    .dataframe thead th {\n",
       "        text-align: right;\n",
       "    }\n",
       "</style>\n",
       "<table border=\"1\" class=\"dataframe\">\n",
       "  <thead>\n",
       "    <tr style=\"text-align: right;\">\n",
       "      <th></th>\n",
       "      <th>concept_id</th>\n",
       "      <th>concept_name</th>\n",
       "      <th>rxnorm_concept_id</th>\n",
       "      <th>drugbank_concept_id</th>\n",
       "      <th>chebi_concept_id</th>\n",
       "    </tr>\n",
       "  </thead>\n",
       "  <tbody>\n",
       "    <tr>\n",
       "      <td>0</td>\n",
       "      <td>19080523</td>\n",
       "      <td>silicon dioxide, colloidal</td>\n",
       "      <td>314826</td>\n",
       "      <td>DB11132</td>\n",
       "      <td>30563.0</td>\n",
       "    </tr>\n",
       "    <tr>\n",
       "      <td>1</td>\n",
       "      <td>42903427</td>\n",
       "      <td>Aldosterone</td>\n",
       "      <td>1312358</td>\n",
       "      <td>DB04630</td>\n",
       "      <td>27584.0</td>\n",
       "    </tr>\n",
       "  </tbody>\n",
       "</table>\n",
       "</div>"
      ],
      "text/plain": [
       "   concept_id                concept_name  rxnorm_concept_id  \\\n",
       "0    19080523  silicon dioxide, colloidal             314826   \n",
       "1    42903427                 Aldosterone            1312358   \n",
       "\n",
       "  drugbank_concept_id  chebi_concept_id  \n",
       "0             DB11132           30563.0  \n",
       "1             DB04630           27584.0  "
      ]
     },
     "execution_count": 3,
     "metadata": {},
     "output_type": "execute_result"
    }
   ],
   "source": [
    "drug_concept = pd.read_csv('../../data/tables/drug_concept.csv.xz')\n",
    "\n",
    "drug_concept.head(2)"
   ]
  },
  {
   "cell_type": "code",
   "execution_count": 4,
   "metadata": {},
   "outputs": [],
   "source": [
    "rxnorm_to_concept_id = (\n",
    "    drug_concept\n",
    "    .set_index('rxnorm_concept_id')['concept_id']\n",
    "    .to_dict()\n",
    ")"
   ]
  },
  {
   "cell_type": "markdown",
   "metadata": {},
   "source": [
    "## Apply mapping and save"
   ]
  },
  {
   "cell_type": "code",
   "execution_count": 5,
   "metadata": {},
   "outputs": [
    {
     "data": {
      "text/html": [
       "<div>\n",
       "<style scoped>\n",
       "    .dataframe tbody tr th:only-of-type {\n",
       "        vertical-align: middle;\n",
       "    }\n",
       "\n",
       "    .dataframe tbody tr th {\n",
       "        vertical-align: top;\n",
       "    }\n",
       "\n",
       "    .dataframe thead th {\n",
       "        text-align: right;\n",
       "    }\n",
       "</style>\n",
       "<table border=\"1\" class=\"dataframe\">\n",
       "  <thead>\n",
       "    <tr style=\"text-align: right;\">\n",
       "      <th></th>\n",
       "      <th>drug_id</th>\n",
       "      <th>outcome_id</th>\n",
       "      <th>A</th>\n",
       "      <th>B</th>\n",
       "      <th>C</th>\n",
       "      <th>D</th>\n",
       "      <th>PRR</th>\n",
       "      <th>PRR_error</th>\n",
       "      <th>drug_concept_id</th>\n",
       "    </tr>\n",
       "  </thead>\n",
       "  <tbody>\n",
       "    <tr>\n",
       "      <td>0</td>\n",
       "      <td>33835</td>\n",
       "      <td>35104074</td>\n",
       "      <td>2.0</td>\n",
       "      <td>34.0</td>\n",
       "      <td>8.0</td>\n",
       "      <td>352.0</td>\n",
       "      <td>2.5</td>\n",
       "      <td>0.771002</td>\n",
       "      <td>19025693</td>\n",
       "    </tr>\n",
       "    <tr>\n",
       "      <td>1</td>\n",
       "      <td>33835</td>\n",
       "      <td>35104113</td>\n",
       "      <td>0.0</td>\n",
       "      <td>36.0</td>\n",
       "      <td>1.0</td>\n",
       "      <td>359.0</td>\n",
       "      <td>0.0</td>\n",
       "      <td>inf</td>\n",
       "      <td>19025693</td>\n",
       "    </tr>\n",
       "  </tbody>\n",
       "</table>\n",
       "</div>"
      ],
      "text/plain": [
       "   drug_id  outcome_id    A     B    C      D  PRR  PRR_error  drug_concept_id\n",
       "0    33835    35104074  2.0  34.0  8.0  352.0  2.5   0.771002         19025693\n",
       "1    33835    35104113  0.0  36.0  1.0  359.0  0.0        inf         19025693"
      ]
     },
     "execution_count": 5,
     "metadata": {},
     "output_type": "execute_result"
    }
   ],
   "source": [
    "offsides_omop = (\n",
    "    offsides\n",
    "    .assign(\n",
    "        drug_concept_id=lambda df: df['drug_id'].map(rxnorm_to_concept_id),\n",
    "    )\n",
    "    .renma\n",
    "    .filter(items=['drug_concept_id', 'condition_concept_id', 'prr', 'prr'])\n",
    ")\n",
    "\n",
    "offsides_omop.head(2)"
   ]
  },
  {
   "cell_type": "code",
   "execution_count": null,
   "metadata": {},
   "outputs": [],
   "source": []
  }
 ],
 "metadata": {
  "kernelspec": {
   "display_name": "Python [conda env:nsides] *",
   "language": "python",
   "name": "conda-env-nsides-py"
  },
  "language_info": {
   "codemirror_mode": {
    "name": "ipython",
    "version": 3
   },
   "file_extension": ".py",
   "mimetype": "text/x-python",
   "name": "python",
   "nbconvert_exporter": "python",
   "pygments_lexer": "ipython3",
   "version": "3.7.3"
  }
 },
 "nbformat": 4,
 "nbformat_minor": 2
}
