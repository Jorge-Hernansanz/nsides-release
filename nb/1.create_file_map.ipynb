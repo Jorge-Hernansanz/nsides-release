{
 "cells": [
  {
   "cell_type": "code",
   "execution_count": 1,
   "metadata": {},
   "outputs": [],
   "source": [
    "import concurrent.futures\n",
    "import pathlib\n",
    "import tarfile\n",
    "import re\n",
    "import sys\n",
    "\n",
    "import pandas as pd\n",
    "import tqdm\n",
    "\n",
    "sys.path.insert(0, '../src/')\n",
    "import utils"
   ]
  },
  {
   "cell_type": "markdown",
   "metadata": {},
   "source": [
    "# Create a map of files and archives\n",
    "\n",
    "Currently, propensity scores are stored as individual files for each bootstrap iteration of each drug. These files are grouped and stored in roughly 220 `.tgz` (`.tar.gz`) archive files, alongside log files, which give the AUROC values for each bootstrap iteration's propensity scores. That is, how well the propensity scores predict exposure.\n",
    "\n",
    "Since I was at first not sure whether I could be sure that all files for a given drug would be in a single archive (it turns out that they are), I decided it would be best to create a map of in which archives all files are stored. The relevant data for a drug (for now) are 20 `score` files and 20 `log` files, one of each for each bootstrap iteration.\n",
    "\n",
    "Archives are between 0.5 - 1.5 GB per file, while the uncompressed `score` files are roughly 11 MB each. `log` files are tiny, as they are simply of the format `{'auc': 0.5, 'acc', 0.6}`."
   ]
  },
  {
   "cell_type": "code",
   "execution_count": 2,
   "metadata": {},
   "outputs": [],
   "source": [
    "# Path to where the `.tgz` archives are stored\n",
    "archives_path = pathlib.Path('../data/archives/')"
   ]
  },
  {
   "cell_type": "code",
   "execution_count": 3,
   "metadata": {},
   "outputs": [],
   "source": [
    "def get_subfiles(archive_file_path):\n",
    "    file_locations = list()\n",
    "    tar = tarfile.open(archive_file_path, mode='r:gz')\n",
    "    subfiles = tar.getnames()\n",
    "    \n",
    "    for subfile in subfiles:\n",
    "        if 'interaction' in subfile:\n",
    "            drug = re.match(r'(?:interactions__)([0-9]+)(?:\\.npy)', subfile)\n",
    "            if not drug:\n",
    "                raise ValueError(f'{archive_file_path.name} contained {subfile} not matched')\n",
    "            drug = drug.group(1)\n",
    "            bootstrap = None\n",
    "            file_type = 'interaction'\n",
    "        else:\n",
    "            drug, bootstrap = utils.extract_indices(subfile)\n",
    "            file_type = re.match('^[a-z]+(?=_.+)', subfile).group()\n",
    "        file_locations.append([drug, bootstrap, file_type, subfile, \n",
    "                               archive_file_path.name])\n",
    "    return file_locations"
   ]
  },
  {
   "cell_type": "code",
   "execution_count": 4,
   "metadata": {},
   "outputs": [
    {
     "name": "stderr",
     "output_type": "stream",
     "text": [
      "100%|██████████| 220/220 [11:08<00:00,  3.04s/it]\n"
     ]
    }
   ],
   "source": [
    "archive_files = list(archives_path.glob('scores_*.tgz'))\n",
    "\n",
    "with concurrent.futures.ProcessPoolExecutor() as executor:\n",
    "    all_file_locations = list(\n",
    "        tqdm.tqdm(executor.map(get_subfiles, archive_files),\n",
    "                  total=len(archive_files))\n",
    "    )"
   ]
  },
  {
   "cell_type": "code",
   "execution_count": 5,
   "metadata": {},
   "outputs": [
    {
     "data": {
      "text/html": [
       "<div>\n",
       "<style scoped>\n",
       "    .dataframe tbody tr th:only-of-type {\n",
       "        vertical-align: middle;\n",
       "    }\n",
       "\n",
       "    .dataframe tbody tr th {\n",
       "        vertical-align: top;\n",
       "    }\n",
       "\n",
       "    .dataframe thead th {\n",
       "        text-align: right;\n",
       "    }\n",
       "</style>\n",
       "<table border=\"1\" class=\"dataframe\">\n",
       "  <thead>\n",
       "    <tr style=\"text-align: right;\">\n",
       "      <th></th>\n",
       "      <th>drug</th>\n",
       "      <th>bootstrap</th>\n",
       "      <th>file_type</th>\n",
       "      <th>file_name</th>\n",
       "      <th>archive_file</th>\n",
       "    </tr>\n",
       "  </thead>\n",
       "  <tbody>\n",
       "    <tr>\n",
       "      <td>0</td>\n",
       "      <td>2782</td>\n",
       "      <td>10.0</td>\n",
       "      <td>scores</td>\n",
       "      <td>scores_lrc_10__2782.npy</td>\n",
       "      <td>scores_140.tgz</td>\n",
       "    </tr>\n",
       "    <tr>\n",
       "      <td>1</td>\n",
       "      <td>2787</td>\n",
       "      <td>10.0</td>\n",
       "      <td>scores</td>\n",
       "      <td>scores_lrc_10__2787.npy</td>\n",
       "      <td>scores_140.tgz</td>\n",
       "    </tr>\n",
       "  </tbody>\n",
       "</table>\n",
       "</div>"
      ],
      "text/plain": [
       "   drug  bootstrap file_type                file_name    archive_file\n",
       "0  2782       10.0    scores  scores_lrc_10__2782.npy  scores_140.tgz\n",
       "1  2787       10.0    scores  scores_lrc_10__2787.npy  scores_140.tgz"
      ]
     },
     "execution_count": 5,
     "metadata": {},
     "output_type": "execute_result"
    }
   ],
   "source": [
    "# Flatten the list of lists of tuples to a list of tuples\n",
    "all_file_locations = [i for l in all_file_locations for i in l]\n",
    "files_map = pd.DataFrame(all_file_locations, \n",
    "                         columns=['drug', 'bootstrap', \n",
    "                                  'file_type', 'file_name', \n",
    "                                  'archive_file'])\n",
    "files_map.to_csv('../data/meta/file_map_offsides.csv', index=False)\n",
    "files_map.head(2)"
   ]
  },
  {
   "cell_type": "code",
   "execution_count": 6,
   "metadata": {},
   "outputs": [
    {
     "data": {
      "text/plain": [
       "1"
      ]
     },
     "execution_count": 6,
     "metadata": {},
     "output_type": "execute_result"
    }
   ],
   "source": [
    "# See whether the files for any drug are split across multiple files\n",
    "#  Because the value is 1, this indicates that no drug has its files split\n",
    "#  across multiple archive files.\n",
    "(\n",
    "    files_map\n",
    "    .groupby('drug')['archive_file']\n",
    "    .nunique()\n",
    "    .max()\n",
    ")"
   ]
  }
 ],
 "metadata": {
  "kernelspec": {
   "display_name": "Python [conda env:nsides] *",
   "language": "python",
   "name": "conda-env-nsides-py"
  },
  "language_info": {
   "codemirror_mode": {
    "name": "ipython",
    "version": 3
   },
   "file_extension": ".py",
   "mimetype": "text/x-python",
   "name": "python",
   "nbconvert_exporter": "python",
   "pygments_lexer": "ipython3",
   "version": "3.7.3"
  }
 },
 "nbformat": 4,
 "nbformat_minor": 2
}
