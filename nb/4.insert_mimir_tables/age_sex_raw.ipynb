{
 "cells": [
  {
   "cell_type": "code",
   "execution_count": 1,
   "metadata": {},
   "outputs": [],
   "source": [
    "import numpy as np\n",
    "import pandas as pd\n",
    "import scipy.sparse"
   ]
  },
  {
   "cell_type": "code",
   "execution_count": 2,
   "metadata": {},
   "outputs": [
    {
     "data": {
      "text/html": [
       "<div>\n",
       "<style scoped>\n",
       "    .dataframe tbody tr th:only-of-type {\n",
       "        vertical-align: middle;\n",
       "    }\n",
       "\n",
       "    .dataframe tbody tr th {\n",
       "        vertical-align: top;\n",
       "    }\n",
       "\n",
       "    .dataframe thead th {\n",
       "        text-align: right;\n",
       "    }\n",
       "</style>\n",
       "<table border=\"1\" class=\"dataframe\">\n",
       "  <thead>\n",
       "    <tr style=\"text-align: right;\">\n",
       "      <th></th>\n",
       "      <th>report_id</th>\n",
       "      <th>report_year</th>\n",
       "      <th>person_age</th>\n",
       "      <th>person_sex</th>\n",
       "    </tr>\n",
       "  </thead>\n",
       "  <tbody>\n",
       "    <tr>\n",
       "      <td>0</td>\n",
       "      <td>4572294</td>\n",
       "      <td>2005</td>\n",
       "      <td>76.0</td>\n",
       "      <td>F</td>\n",
       "    </tr>\n",
       "    <tr>\n",
       "      <td>1</td>\n",
       "      <td>4440060</td>\n",
       "      <td>2004</td>\n",
       "      <td>78.0</td>\n",
       "      <td>M</td>\n",
       "    </tr>\n",
       "  </tbody>\n",
       "</table>\n",
       "</div>"
      ],
      "text/plain": [
       "   report_id  report_year  person_age person_sex\n",
       "0    4572294         2005        76.0          F\n",
       "1    4440060         2004        78.0          M"
      ]
     },
     "execution_count": 2,
     "metadata": {},
     "output_type": "execute_result"
    }
   ],
   "source": [
    "report_id_vector = np.load('../../data/meta_formatted/report_id_vector.npy')\n",
    "drug_id_vector = np.load('../../data/meta_formatted/drug_id_vector.npy')\n",
    "drug_exposure = scipy.sparse.load_npz('../../data/meta_formatted/drug_exposure_matrix.npz')\n",
    "\n",
    "report = pd.read_csv('../../data/tables/report.csv.xz')\n",
    "\n",
    "age_df = (\n",
    "    pd.DataFrame(report_id_vector, columns=['report_id'])\n",
    "    .merge(report, on='report_id', how='left')\n",
    ")\n",
    "\n",
    "age_df.head(2)"
   ]
  },
  {
   "cell_type": "markdown",
   "metadata": {},
   "source": [
    "# Age differences\n",
    "\n",
    "Differences in average age between exposed and unexposed reports (where age is known) for all drugs."
   ]
  },
  {
   "cell_type": "code",
   "execution_count": 3,
   "metadata": {},
   "outputs": [],
   "source": [
    "age = age_df['person_age'].values\n",
    "\n",
    "# Indices of records where age is known\n",
    "indices = np.where(~np.isnan(age))[0]\n",
    "\n",
    "# Sum of ages of exposed reports for each drug\n",
    "sum_exposed_ages = age[indices] @ drug_exposure[indices]\n",
    "\n",
    "# Num exposed with a known age\n",
    "n_exposed = drug_exposure[indices].sum(axis=0)\n",
    "\n",
    "# Set drugs with no exposures to 1 exposure, so division works\n",
    "n_exposed[n_exposed == 0] = 1\n",
    "\n",
    "# Mean age of exposed reports (among those with known age)\n",
    "mean_exposed_ages = sum_exposed_ages / n_exposed\n",
    "\n",
    "# Sum of ages for all known ages\n",
    "sum_ages = age[indices].sum()\n",
    "\n",
    "# The sum of ages for unexposed reports is total - sum_exposed\n",
    "sum_unexposed_ages = sum_ages - sum_exposed_ages\n",
    "\n",
    "# Mean of unexposed reports is sum of unexposed ages divided by number\n",
    "#  not exposed (total number reports with age minus number exposed)\n",
    "mean_unexposed_ages = sum_unexposed_ages / (len(indices) - n_exposed)\n",
    "\n",
    "# Average age exposed - average age unexposed (among those with known ages)\n",
    "exposed_minus_unexposed = mean_exposed_ages - mean_unexposed_ages\n",
    "exposed_minus_unexposed = np.array(exposed_minus_unexposed).flatten()"
   ]
  },
  {
   "cell_type": "markdown",
   "metadata": {},
   "source": [
    "# Sex differences\n",
    "\n",
    "Fraction of reports that are male (among those with male or female reported) among exposed minus unexposed."
   ]
  },
  {
   "cell_type": "code",
   "execution_count": 4,
   "metadata": {},
   "outputs": [],
   "source": [
    "sex = age_df['person_sex'].values\n",
    "\n",
    "indices_known = np.where((sex == 'F') | (sex == 'M'))\n",
    "indices_male = np.where(sex == 'M')\n",
    "\n",
    "num_known_sex_exposed = drug_exposure[indices_known].sum(axis=0)\n",
    "num_known_sex_unexposed = (len(indices_known) - num_known_sex_exposed)\n",
    "\n",
    "num_males_exposed = drug_exposure[indices_male].sum(axis=0)\n",
    "num_males_unexposed = num_known_sex_exposed - num_males_exposed\n",
    "\n",
    "# Formatting to enable division\n",
    "num_known_sex_exposed[num_known_sex_exposed == 0] = 1\n",
    "num_known_sex_unexposed[num_known_sex_unexposed == 0] = 1\n",
    "\n",
    "# Fraction of exposed and unexposed that are male\n",
    "frac_exposed_male = num_males_exposed / num_known_sex_exposed\n",
    "frac_unexposed_male = num_males_unexposed / num_known_sex_unexposed\n",
    "\n",
    "frac_male_exp_minus_unexp = np.array(frac_exposed_male - frac_unexposed_male).flatten()"
   ]
  },
  {
   "cell_type": "markdown",
   "metadata": {},
   "source": [
    "# Save table"
   ]
  },
  {
   "cell_type": "code",
   "execution_count": 5,
   "metadata": {},
   "outputs": [
    {
     "data": {
      "text/html": [
       "<div>\n",
       "<style scoped>\n",
       "    .dataframe tbody tr th:only-of-type {\n",
       "        vertical-align: middle;\n",
       "    }\n",
       "\n",
       "    .dataframe tbody tr th {\n",
       "        vertical-align: top;\n",
       "    }\n",
       "\n",
       "    .dataframe thead th {\n",
       "        text-align: right;\n",
       "    }\n",
       "</style>\n",
       "<table border=\"1\" class=\"dataframe\">\n",
       "  <thead>\n",
       "    <tr style=\"text-align: right;\">\n",
       "      <th></th>\n",
       "      <th>drug_id</th>\n",
       "      <th>age_diff</th>\n",
       "      <th>male_dif</th>\n",
       "    </tr>\n",
       "  </thead>\n",
       "  <tbody>\n",
       "    <tr>\n",
       "      <td>0</td>\n",
       "      <td>314826</td>\n",
       "      <td>-10.504228</td>\n",
       "      <td>1.15</td>\n",
       "    </tr>\n",
       "    <tr>\n",
       "      <td>1</td>\n",
       "      <td>8167</td>\n",
       "      <td>-5.254216</td>\n",
       "      <td>-1.00</td>\n",
       "    </tr>\n",
       "  </tbody>\n",
       "</table>\n",
       "</div>"
      ],
      "text/plain": [
       "   drug_id   age_diff  male_dif\n",
       "0   314826 -10.504228      1.15\n",
       "1     8167  -5.254216     -1.00"
      ]
     },
     "execution_count": 5,
     "metadata": {},
     "output_type": "execute_result"
    }
   ],
   "source": [
    "raw_diff_df = pd.DataFrame({\n",
    "    'drug_id': drug_id_vector,\n",
    "    'age_diff': exposed_minus_unexposed,\n",
    "    'male_dif': frac_male_exp_minus_unexp\n",
    "})\n",
    "\n",
    "raw_diff_df.to_csv('../../data/post_analysis/raw_diff.csv.xz', index=False,\n",
    "                   compression='xz')\n",
    "\n",
    "raw_diff_df.head(2)"
   ]
  }
 ],
 "metadata": {
  "kernelspec": {
   "display_name": "Python [conda env:nsides] *",
   "language": "python",
   "name": "conda-env-nsides-py"
  },
  "language_info": {
   "codemirror_mode": {
    "name": "ipython",
    "version": 3
   },
   "file_extension": ".py",
   "mimetype": "text/x-python",
   "name": "python",
   "nbconvert_exporter": "python",
   "pygments_lexer": "ipython3",
   "version": "3.7.3"
  }
 },
 "nbformat": 4,
 "nbformat_minor": 2
}
