{
 "cells": [
  {
   "cell_type": "markdown",
   "metadata": {},
   "source": [
    "# Format outcomes data\n",
    "\n",
    "This notebook formats the MedDRA outcomes for each report as a matrix of reports by outcomes.\n",
    "To make this mapping transparent, it also produces vectors indicating what IDs correspond to each index in the matrix.\n",
    "\n",
    "This notebook uses the following files:\n",
    "\n",
    "* `data/meta_unformatted/all_reportids_IN.npy`\n",
    "* `data/meta_unformatted/outcomes_table.csv.xz`\n",
    "\n",
    "to produce the following files:\n",
    "\n",
    "* `data/meta_formatted/report_id_vector.npy`\n",
    "* `data/meta_formatted/outcome_id_vector.npy`\n",
    "* `data/meta_formatted/outcome_matrix.npz`\n",
    "* `data/meta_formatted/outcomes_table.csv.xz`"
   ]
  },
  {
   "cell_type": "code",
   "execution_count": 1,
   "metadata": {},
   "outputs": [],
   "source": [
    "import numpy as np\n",
    "import pandas as pd\n",
    "import scipy.sparse"
   ]
  },
  {
   "cell_type": "markdown",
   "metadata": {},
   "source": [
    "## Load unformatted files"
   ]
  },
  {
   "cell_type": "code",
   "execution_count": 2,
   "metadata": {},
   "outputs": [
    {
     "name": "stdout",
     "output_type": "stream",
     "text": [
      "(4694086,)\n"
     ]
    },
    {
     "data": {
      "text/plain": [
       "array([  4572294,   4440060,   4456349, ...,  87896661, 101667231,\n",
       "       100823751])"
      ]
     },
     "execution_count": 2,
     "metadata": {},
     "output_type": "execute_result"
    }
   ],
   "source": [
    "report_id_vector = np.load('../../data/meta_unformatted/all_reportids_IN.npy').astype(int)\n",
    "\n",
    "np.save('../../data/meta_formatted/report_id_vector.npy', report_id_vector)\n",
    "\n",
    "print(report_id_vector.shape)\n",
    "report_id_vector"
   ]
  },
  {
   "cell_type": "code",
   "execution_count": 3,
   "metadata": {},
   "outputs": [
    {
     "data": {
      "text/html": [
       "<div>\n",
       "<style scoped>\n",
       "    .dataframe tbody tr th:only-of-type {\n",
       "        vertical-align: middle;\n",
       "    }\n",
       "\n",
       "    .dataframe tbody tr th {\n",
       "        vertical-align: top;\n",
       "    }\n",
       "\n",
       "    .dataframe thead th {\n",
       "        text-align: right;\n",
       "    }\n",
       "</style>\n",
       "<table border=\"1\" class=\"dataframe\">\n",
       "  <thead>\n",
       "    <tr style=\"text-align: right;\">\n",
       "      <th></th>\n",
       "      <th>primaryid</th>\n",
       "      <th>isr</th>\n",
       "      <th>pt</th>\n",
       "      <th>outcome_concept_id</th>\n",
       "      <th>snomed_outcome_concept_id</th>\n",
       "    </tr>\n",
       "  </thead>\n",
       "  <tbody>\n",
       "    <tr>\n",
       "      <td>0</td>\n",
       "      <td>NaN</td>\n",
       "      <td>8310062.0</td>\n",
       "      <td>0</td>\n",
       "      <td>35607122</td>\n",
       "      <td>NaN</td>\n",
       "    </tr>\n",
       "    <tr>\n",
       "      <td>1</td>\n",
       "      <td>NaN</td>\n",
       "      <td>7794268.0</td>\n",
       "      <td>0</td>\n",
       "      <td>36718526</td>\n",
       "      <td>377091.0</td>\n",
       "    </tr>\n",
       "  </tbody>\n",
       "</table>\n",
       "</div>"
      ],
      "text/plain": [
       "   primaryid        isr  pt  outcome_concept_id  snomed_outcome_concept_id\n",
       "0        NaN  8310062.0   0            35607122                        NaN\n",
       "1        NaN  7794268.0   0            36718526                   377091.0"
      ]
     },
     "execution_count": 3,
     "metadata": {},
     "output_type": "execute_result"
    }
   ],
   "source": [
    "outcomes_df = pd.read_csv('../../data/meta_unformatted/outcomes_table.csv.xz')\n",
    "\n",
    "outcomes_df.head(2)"
   ]
  },
  {
   "cell_type": "markdown",
   "metadata": {},
   "source": [
    "## Produce formatted outputs"
   ]
  },
  {
   "cell_type": "code",
   "execution_count": 4,
   "metadata": {},
   "outputs": [
    {
     "name": "stdout",
     "output_type": "stream",
     "text": [
      "SNOMED: 7091, MedDRA: 17710\n"
     ]
    }
   ],
   "source": [
    "n_unique_meddra = len(set(outcomes_df['outcome_concept_id']))\n",
    "n_unique_snomed = len(set(outcomes_df\n",
    "                          .dropna(subset=['snomed_outcome_concept_id'])\n",
    "                          ['snomed_outcome_concept_id']))\n",
    "\n",
    "print(f'SNOMED: {n_unique_snomed}, MedDRA: {n_unique_meddra}')"
   ]
  },
  {
   "cell_type": "code",
   "execution_count": 5,
   "metadata": {},
   "outputs": [],
   "source": [
    "# There are no entries with both primaryid and isr or neither. Always exactly one of the two\n",
    "assert outcomes_df[~(outcomes_df['isr'].isnull() | outcomes_df['primaryid'].isnull())].shape[0] == 0\n",
    "assert outcomes_df[~outcomes_df['isr'].isnull() & ~outcomes_df['primaryid'].isnull()].shape[0] == 0"
   ]
  },
  {
   "cell_type": "code",
   "execution_count": 6,
   "metadata": {},
   "outputs": [
    {
     "data": {
      "text/html": [
       "<div>\n",
       "<style scoped>\n",
       "    .dataframe tbody tr th:only-of-type {\n",
       "        vertical-align: middle;\n",
       "    }\n",
       "\n",
       "    .dataframe tbody tr th {\n",
       "        vertical-align: top;\n",
       "    }\n",
       "\n",
       "    .dataframe thead th {\n",
       "        text-align: right;\n",
       "    }\n",
       "</style>\n",
       "<table border=\"1\" class=\"dataframe\">\n",
       "  <thead>\n",
       "    <tr style=\"text-align: right;\">\n",
       "      <th></th>\n",
       "      <th>report_id</th>\n",
       "      <th>outcome_concept_id</th>\n",
       "      <th>snomed_outcome_concept_id</th>\n",
       "      <th>index</th>\n",
       "    </tr>\n",
       "  </thead>\n",
       "  <tbody>\n",
       "    <tr>\n",
       "      <td>0</td>\n",
       "      <td>100033001</td>\n",
       "      <td>36516812</td>\n",
       "      <td>77074.0</td>\n",
       "      <td>4394326</td>\n",
       "    </tr>\n",
       "    <tr>\n",
       "      <td>1</td>\n",
       "      <td>100033001</td>\n",
       "      <td>35708093</td>\n",
       "      <td>196523.0</td>\n",
       "      <td>4394326</td>\n",
       "    </tr>\n",
       "  </tbody>\n",
       "</table>\n",
       "</div>"
      ],
      "text/plain": [
       "   report_id  outcome_concept_id  snomed_outcome_concept_id    index\n",
       "0  100033001            36516812                    77074.0  4394326\n",
       "1  100033001            35708093                   196523.0  4394326"
      ]
     },
     "execution_count": 6,
     "metadata": {},
     "output_type": "execute_result"
    }
   ],
   "source": [
    "# Create a \"report_id\" which is either \"primaryid\" or \"isr\", whichever the report has\n",
    "report_outcomes_df = (\n",
    "    pd.concat([\n",
    "        outcomes_df\n",
    "        .loc[~outcomes_df['primaryid'].isnull()]\n",
    "        .rename(columns={'primaryid': 'report_id'})\n",
    "        .drop('isr', axis=1),\n",
    "        outcomes_df\n",
    "        .loc[~outcomes_df['isr'].isnull()]\n",
    "        .rename(columns={'isr': 'report_id'})\n",
    "        .drop('primaryid', axis=1),\n",
    "    ], ignore_index=True, sort=False)\n",
    "    .assign(\n",
    "        report_id=lambda df: df['report_id'].astype(int),\n",
    "    )\n",
    "    .filter(items=['report_id', 'outcome_concept_id', 'snomed_outcome_concept_id'])\n",
    "    # More report ids in the new dataframe than in already computed files\n",
    "    .merge(pd.DataFrame(report_id_vector, columns=['report_id']).reset_index(),\n",
    "           on='report_id', how='right')\n",
    ")\n",
    "\n",
    "report_outcomes_df.head(2)"
   ]
  },
  {
   "cell_type": "code",
   "execution_count": 7,
   "metadata": {},
   "outputs": [
    {
     "data": {
      "text/html": [
       "<div>\n",
       "<style scoped>\n",
       "    .dataframe tbody tr th:only-of-type {\n",
       "        vertical-align: middle;\n",
       "    }\n",
       "\n",
       "    .dataframe tbody tr th {\n",
       "        vertical-align: top;\n",
       "    }\n",
       "\n",
       "    .dataframe thead th {\n",
       "        text-align: right;\n",
       "    }\n",
       "</style>\n",
       "<table border=\"1\" class=\"dataframe\">\n",
       "  <thead>\n",
       "    <tr style=\"text-align: right;\">\n",
       "      <th></th>\n",
       "      <th>report_id</th>\n",
       "      <th>outcome_concept_id</th>\n",
       "      <th>snomed_outcome_concept_id</th>\n",
       "      <th>report_index</th>\n",
       "      <th>outcome_index</th>\n",
       "    </tr>\n",
       "  </thead>\n",
       "  <tbody>\n",
       "    <tr>\n",
       "      <td>0</td>\n",
       "      <td>100033001</td>\n",
       "      <td>36516812</td>\n",
       "      <td>77074.0</td>\n",
       "      <td>4394326</td>\n",
       "      <td>10544</td>\n",
       "    </tr>\n",
       "    <tr>\n",
       "      <td>1</td>\n",
       "      <td>100033001</td>\n",
       "      <td>35708093</td>\n",
       "      <td>196523.0</td>\n",
       "      <td>4394326</td>\n",
       "      <td>3612</td>\n",
       "    </tr>\n",
       "  </tbody>\n",
       "</table>\n",
       "</div>"
      ],
      "text/plain": [
       "   report_id  outcome_concept_id  snomed_outcome_concept_id  report_index  \\\n",
       "0  100033001            36516812                    77074.0       4394326   \n",
       "1  100033001            35708093                   196523.0       4394326   \n",
       "\n",
       "   outcome_index  \n",
       "0          10544  \n",
       "1           3612  "
      ]
     },
     "execution_count": 7,
     "metadata": {},
     "output_type": "execute_result"
    }
   ],
   "source": [
    "# Create an index of MedDRA IDs, in order to assign each to a position in the matrix\n",
    "meddra_id_to_index = {meddra_id: i for i, meddra_id\n",
    "                      in enumerate(sorted(set(report_outcomes_df['outcome_concept_id'])))}\n",
    "\n",
    "# Map the new index to the MedDRA concept IDs.\n",
    "report_outcomes_df = (\n",
    "    report_outcomes_df\n",
    "    .assign(\n",
    "        outcome_index=lambda df: df['outcome_concept_id'].map(meddra_id_to_index)\n",
    "    )\n",
    "    .rename(columns={'index': 'report_index'})\n",
    ")\n",
    "\n",
    "report_outcomes_df.head(2)"
   ]
  },
  {
   "cell_type": "code",
   "execution_count": 8,
   "metadata": {},
   "outputs": [],
   "source": [
    "# Save outcomes table\n",
    "report_outcomes_df.to_csv('../../data/meta_formatted/outcomes_table.csv.xz', index=False,\n",
    "                          compression='xz')\n",
    "\n",
    "# Generate and save vector of ids\n",
    "outcome_id_vector = np.array(sorted(meddra_id_to_index.keys(), key=meddra_id_to_index.get))\n",
    "np.save('../../data/meta_formatted/outcome_id_vector.npy', outcome_id_vector)\n",
    "\n",
    "# Generate and save matrix\n",
    "n_edges = report_outcomes_df.shape[0]\n",
    "edges = report_outcomes_df[['report_index', 'outcome_index']].values.tolist()\n",
    "\n",
    "outcomes_matrix = scipy.sparse.coo_matrix(\n",
    "    (np.ones(n_edges), (zip(*edges)))\n",
    ")\n",
    "scipy.sparse.save_npz('../../data/meta_formatted/outcome_matrix.npz', outcomes_matrix.tocsc())"
   ]
  }
 ],
 "metadata": {
  "kernelspec": {
   "display_name": "Python [conda env:nsides] *",
   "language": "python",
   "name": "conda-env-nsides-py"
  },
  "language_info": {
   "codemirror_mode": {
    "name": "ipython",
    "version": 3
   },
   "file_extension": ".py",
   "mimetype": "text/x-python",
   "name": "python",
   "nbconvert_exporter": "python",
   "pygments_lexer": "ipython3",
   "version": "3.7.3"
  }
 },
 "nbformat": 4,
 "nbformat_minor": 2
}
