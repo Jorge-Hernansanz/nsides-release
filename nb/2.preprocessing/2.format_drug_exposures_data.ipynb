{
 "cells": [
  {
   "cell_type": "markdown",
   "metadata": {},
   "source": [
    "# Format drug exposures data\n",
    "\n",
    "This notebook formats the drug exposures for each report as a matrix of reports by drug exposures.\n",
    "To make this mapping transparent, it also produces vectors indicating what IDs correspond to each index in the matrix.\n",
    "\n",
    "This notebook uses the following files:\n",
    "\n",
    "* `data/aeolus/*.npy`\n",
    "    * This is a set of 55 files across which the reports are split, in order.\n",
    "* `data/meta_unformatted/unique_ingredients.npy`\n",
    "\n",
    "to produce the following files:\n",
    "\n",
    "* `data/meta_formatted/drug_exposure_matrix.npz`\n",
    "* `data/meta_formatted/drug_id_vector.npy`"
   ]
  },
  {
   "cell_type": "code",
   "execution_count": 1,
   "metadata": {},
   "outputs": [],
   "source": [
    "import pathlib\n",
    "import re\n",
    "\n",
    "import numpy as np\n",
    "import scipy.sparse"
   ]
  },
  {
   "cell_type": "markdown",
   "metadata": {},
   "source": [
    "## Find all potential drug exposure files"
   ]
  },
  {
   "cell_type": "code",
   "execution_count": 2,
   "metadata": {},
   "outputs": [
    {
     "name": "stdout",
     "output_type": "stream",
     "text": [
      "55\n"
     ]
    },
    {
     "data": {
      "text/plain": [
       "[PosixPath('../../data/aeolus/AEOLUS_all_reports_IN_0.npy'),\n",
       " PosixPath('../../data/aeolus/AEOLUS_all_reports_IN_1.npy'),\n",
       " PosixPath('../../data/aeolus/AEOLUS_all_reports_IN_2.npy'),\n",
       " PosixPath('../../data/aeolus/AEOLUS_all_reports_IN_3.npy'),\n",
       " PosixPath('../../data/aeolus/AEOLUS_all_reports_IN_4.npy'),\n",
       " PosixPath('../../data/aeolus/AEOLUS_all_reports_IN_5.npy'),\n",
       " PosixPath('../../data/aeolus/AEOLUS_all_reports_IN_6.npy'),\n",
       " PosixPath('../../data/aeolus/AEOLUS_all_reports_IN_7.npy'),\n",
       " PosixPath('../../data/aeolus/AEOLUS_all_reports_IN_8.npy'),\n",
       " PosixPath('../../data/aeolus/AEOLUS_all_reports_IN_9.npy'),\n",
       " PosixPath('../../data/aeolus/AEOLUS_all_reports_IN_10.npy')]"
      ]
     },
     "execution_count": 2,
     "metadata": {},
     "output_type": "execute_result"
    }
   ],
   "source": [
    "aeolus_path = pathlib.Path('../../data/aeolus/')\n",
    "drug_files = list(aeolus_path.glob('*.npy'))\n",
    "print(len(drug_files))\n",
    "\n",
    "# Sort by integer, not string, so that sorted order is 1, 2, ... not 1, 10, 11, ...\n",
    "drug_files = sorted(drug_files, key=lambda p: int(re.match('(?:.+_IN_)([0-9]+)(?:\\.npy)', p.name).group(1)))\n",
    "\n",
    "drug_files[:11]"
   ]
  },
  {
   "cell_type": "markdown",
   "metadata": {},
   "source": [
    "## Combine all drug exposure files"
   ]
  },
  {
   "cell_type": "code",
   "execution_count": 3,
   "metadata": {},
   "outputs": [
    {
     "name": "stdout",
     "output_type": "stream",
     "text": [
      "../../data/aeolus/AEOLUS_all_reports_IN_50.npy\n",
      "../../data/aeolus/AEOLUS_all_reports_IN_51.npy\n",
      "../../data/aeolus/AEOLUS_all_reports_IN_52.npy\n",
      "../../data/aeolus/AEOLUS_all_reports_IN_53.npy\n",
      "../../data/aeolus/AEOLUS_all_reports_IN_54.npy\n"
     ]
    }
   ],
   "source": [
    "# Combine the split drug exposure matrices into a single sparse matrix\n",
    "drug_exposure_matrix = None\n",
    "\n",
    "for drug_file in drug_files:\n",
    "    try:\n",
    "        exposure_chunk_matrix = np.load(drug_file, allow_pickle=True).item()\n",
    "    except OSError:\n",
    "        print(drug_file)\n",
    "        pass\n",
    "    \n",
    "    if drug_exposure_matrix is None:\n",
    "        drug_exposure_matrix = exposure_chunk_matrix\n",
    "    else:\n",
    "        drug_exposure_matrix = scipy.sparse.vstack([drug_exposure_matrix, \n",
    "                                                    exposure_chunk_matrix])\n",
    "        \n",
    "# Convert to compressed sparse column format (allows slicing)\n",
    "drug_exposure_matrix = drug_exposure_matrix.tocsc()"
   ]
  },
  {
   "cell_type": "markdown",
   "metadata": {},
   "source": [
    "## Check resulting matrix"
   ]
  },
  {
   "cell_type": "code",
   "execution_count": 4,
   "metadata": {},
   "outputs": [
    {
     "name": "stdout",
     "output_type": "stream",
     "text": [
      "(5338588, 4396)\n"
     ]
    }
   ],
   "source": [
    "# Array is too big. (Too many records - should be 4_694_086)\n",
    "print(drug_exposure_matrix.shape)\n",
    "\n",
    "# But the excess rows are all empty\n",
    "assert drug_exposure_matrix[4694086:].nnz == 0\n",
    "\n",
    "# So use only real rows\n",
    "drug_exposure_matrix = drug_exposure_matrix[:4694086]"
   ]
  },
  {
   "cell_type": "markdown",
   "metadata": {},
   "source": [
    "## Save formatted files"
   ]
  },
  {
   "cell_type": "code",
   "execution_count": 5,
   "metadata": {},
   "outputs": [],
   "source": [
    "# Save the drug exposure matrix to a file\n",
    "scipy.sparse.save_npz('../../data/meta_formatted/drug_exposure_matrix.npz', drug_exposure_matrix)\n",
    "\n",
    "# Load, reformat, and save drug ID vector\n",
    "drug_id_vector = np.load('../../data/meta_unformatted/unique_ingredients.npy').astype(int)\n",
    "np.save('../../data/meta_formatted/drug_id_vector.npy', drug_id_vector)"
   ]
  }
 ],
 "metadata": {
  "kernelspec": {
   "display_name": "Python [conda env:nsides] *",
   "language": "python",
   "name": "conda-env-nsides-py"
  },
  "language_info": {
   "codemirror_mode": {
    "name": "ipython",
    "version": 3
   },
   "file_extension": ".py",
   "mimetype": "text/x-python",
   "name": "python",
   "nbconvert_exporter": "python",
   "pygments_lexer": "ipython3",
   "version": "3.7.3"
  }
 },
 "nbformat": 4,
 "nbformat_minor": 2
}
